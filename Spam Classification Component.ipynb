{
 "cells": [
  {
   "cell_type": "code",
   "execution_count": null,
   "id": "15442f53",
   "metadata": {},
   "outputs": [],
   "source": [
    "import pickle\n",
    "\n",
    "import numpy as np\n",
    "import pandas as pd\n",
    "import matplotlib.pyplot as plt\n",
    "import seaborn as sns\n",
    "\n",
    "from sklearn.model_selection import train_test_split\n",
    "from tensorflow.keras.utils import plot_model\n",
    "from tensorflow.keras.models import Model\n",
    "from tensorflow.keras.layers import Input, Dense, Embedding, GlobalMaxPooling1D, Conv1D, LSTM, Bidirectional, Dropout\n",
    "from tensorflow.keras.metrics import CategoricalAccuracy, AUC, Precision, Recall, BinaryAccuracy"
   ]
  },
  {
   "cell_type": "code",
   "execution_count": null,
   "id": "3139d8ae",
   "metadata": {},
   "outputs": [],
   "source": [
    "%matplotlib inline\n",
    "\n",
    "sns.set_theme()"
   ]
  },
  {
   "cell_type": "code",
   "execution_count": null,
   "id": "506237a7",
   "metadata": {},
   "outputs": [],
   "source": [
    "X = np.load(\"./dataset/FYP_train_X_SEQ.npy\")\n",
    "Y = np.load(\"./dataset/FYP_train_Y.npy\")\n",
    "\n",
    "tokenizer = pickle.load(open(\"./models/message_tokenizer.pkl\",  \"rb\"))\n",
    "embeddings = pickle.load(open(\"./dataset/glove_embeddings.pkl\", \"rb\"))"
   ]
  },
  {
   "cell_type": "code",
   "execution_count": null,
   "id": "16e9733d",
   "metadata": {},
   "outputs": [],
   "source": [
    "X.shape"
   ]
  },
  {
   "cell_type": "code",
   "execution_count": null,
   "id": "0371ca73",
   "metadata": {},
   "outputs": [],
   "source": [
    "Y.shape"
   ]
  },
  {
   "cell_type": "code",
   "execution_count": null,
   "id": "3115666d",
   "metadata": {},
   "outputs": [],
   "source": [
    "embeddingMatrix = np.random.random((len(tokenizer.word_index) + 1, 50))\n",
    "for word, i in tokenizer.word_index.items():\n",
    "    embeddingVector = embeddings.get(word)\n",
    "    if embeddingVector is not None:\n",
    "        if len(embeddingMatrix[i]) != len(embeddingVector):\n",
    "            print(\n",
    "                \"could not broadcast input array from shape\", \n",
    "                str(len(embeddingMatrix[i])), \n",
    "                \"into shape\", \n",
    "                str(len(embeddingVector)), \n",
    "                \"Please make sure your\"\n",
    "            )\n",
    "            exit(1)\n",
    "        embeddingMatrix[i] = embeddingVector"
   ]
  },
  {
   "cell_type": "code",
   "execution_count": null,
   "id": "9d57aed3",
   "metadata": {},
   "outputs": [],
   "source": [
    "dnn_input_layer = Input(shape=(X.shape[1],))\n",
    "dnn_embedding_layer = Embedding(len(tokenizer.word_index) + 1, embeddingMatrix.shape[1], trainable=True)(dnn_input_layer)\n",
    "dnn_maxpool1d_layer = GlobalMaxPooling1D()(dnn_embedding_layer)\n",
    "dnn_hidden_layer_1 = Dense(200, activation='relu')(dnn_maxpool1d_layer)\n",
    "dnn_hidden_layer_2 = Dense(100, activation='relu')(dnn_hidden_layer_1)\n",
    "dnn_hidden_layer_3 = Dense(50, activation='relu')(dnn_hidden_layer_2)\n",
    "dnn_output_layer = Dense(1, activation='sigmoid')(dnn_hidden_layer_3)\n",
    "\n",
    "model_dnn = Model(inputs=dnn_input_layer, outputs=dnn_output_layer)\n",
    "\n",
    "model_dnn.compile(\n",
    "    loss=\"binary_crossentropy\", \n",
    "    optimizer=\"adam\", \n",
    "    metrics=[BinaryAccuracy(name=\"binary_accuracy\"), AUC(name=\"auc\")]\n",
    ")"
   ]
  },
  {
   "cell_type": "code",
   "execution_count": null,
   "id": "32a78544",
   "metadata": {},
   "outputs": [],
   "source": [
    "model_dnn.summary()"
   ]
  },
  {
   "cell_type": "code",
   "execution_count": null,
   "id": "37741b44",
   "metadata": {},
   "outputs": [],
   "source": [
    "plot_model(model_dnn)"
   ]
  },
  {
   "cell_type": "code",
   "execution_count": null,
   "id": "cf4c6cb3",
   "metadata": {},
   "outputs": [],
   "source": [
    "cnn_input_layer = Input(shape=(X.shape[1],))\n",
    "cnn_embedding_layer = Embedding(len(tokenizer.word_index) + 1, embeddingMatrix.shape[1], trainable=True)(cnn_input_layer)\n",
    "cnn_conv1d_layer = Conv1D(400, 3, padding='valid', activation='relu', strides=1)(cnn_embedding_layer)\n",
    "cnn_maxpool1d_layer = GlobalMaxPooling1D()(cnn_conv1d_layer)\n",
    "cnn_hidden_layer_1 = Dense(200, activation='relu')(cnn_maxpool1d_layer)\n",
    "cnn_hidden_layer_2 = Dense(100, activation='relu')(cnn_hidden_layer_1)\n",
    "cnn_hidden_layer_3 = Dense(50, activation='relu')(cnn_hidden_layer_2)\n",
    "cnn_output_layer = Dense(1, activation='sigmoid')(cnn_hidden_layer_3)\n",
    "\n",
    "model_cnn = Model(inputs=cnn_input_layer, outputs=cnn_output_layer)\n",
    "\n",
    "model_cnn.compile(loss=\"binary_crossentropy\", optimizer=\"adam\", metrics=[BinaryAccuracy(name=\"binary_accuracy\"), AUC(name=\"auc\")])"
   ]
  },
  {
   "cell_type": "code",
   "execution_count": null,
   "id": "9ac57e0c",
   "metadata": {},
   "outputs": [],
   "source": [
    "model_cnn.summary()"
   ]
  },
  {
   "cell_type": "code",
   "execution_count": null,
   "id": "3dfca54d",
   "metadata": {},
   "outputs": [],
   "source": [
    "plot_model(model_cnn)"
   ]
  },
  {
   "cell_type": "code",
   "execution_count": null,
   "id": "ae8ad030",
   "metadata": {},
   "outputs": [],
   "source": [
    "bilstm_input_layer = Input(shape=(X.shape[1],))\n",
    "bilstm_embedding_layer = Embedding(len(tokenizer.word_index) + 1, embeddingMatrix.shape[1], trainable=True)(bilstm_input_layer)\n",
    "bilstm_layer_1 = Bidirectional(LSTM(32, return_sequences=True, recurrent_dropout=0.2))(bilstm_embedding_layer)\n",
    "dropout_layer_1 = Dropout(0.2)(bilstm_layer_1)\n",
    "bilstm_layer_2 = Bidirectional(LSTM(32, return_sequences=True, recurrent_dropout=0.2))(dropout_layer_1)\n",
    "dropout_layer_2 = Dropout(0.2)(bilstm_layer_2)\n",
    "bilstm_layer_3 = Bidirectional(LSTM(32, recurrent_dropout=0.2))(dropout_layer_2)\n",
    "dropout_layer_3 = Dropout(0.2)(bilstm_layer_3)\n",
    "bilstm_hidden_layer_1 = Dense(200, activation='relu')(dropout_layer_3)\n",
    "bilstm_hidden_layer_2 = Dense(100, activation='relu')(bilstm_hidden_layer_1)\n",
    "bilstm_hidden_layer_3 = Dense(50, activation='relu')(bilstm_hidden_layer_2)\n",
    "bilstm_output_layer = Dense(1, activation='sigmoid')(bilstm_hidden_layer_3)\n",
    "\n",
    "model_bilstm = Model(inputs=bilstm_input_layer, outputs=bilstm_output_layer)\n",
    "\n",
    "model_bilstm.compile(loss=\"binary_crossentropy\", optimizer=\"adam\", metrics=[BinaryAccuracy(name=\"binary_accuracy\"), AUC(name=\"auc\")])"
   ]
  },
  {
   "cell_type": "code",
   "execution_count": null,
   "id": "0dcd539c",
   "metadata": {},
   "outputs": [],
   "source": [
    "model_bilstm.summary()"
   ]
  },
  {
   "cell_type": "code",
   "execution_count": null,
   "id": "b48eceb0",
   "metadata": {},
   "outputs": [],
   "source": [
    "plot_model(model_bilstm)"
   ]
  },
  {
   "cell_type": "code",
   "execution_count": null,
   "id": "8add1fe1",
   "metadata": {},
   "outputs": [],
   "source": [
    "test_split_sizes = [0.1, 0.2, 0.3, 0.4, 0.5]\n",
    "\n",
    "def train(X, Y, model, name):\n",
    "    scores = {}\n",
    "    \n",
    "    print(\"Training\", name, \"\\n\")\n",
    "    \n",
    "    initial_weights = model.get_weights()\n",
    "    \n",
    "    for size in test_split_sizes:   \n",
    "        X_train, X_test, Y_train, Y_test = train_test_split(X, Y, test_size=size, random_state=1)\n",
    "        \n",
    "        model.set_weights(initial_weights)\n",
    "\n",
    "        model.fit(X_train, Y_train, batch_size=32, epochs=3, shuffle=True , validation_split=0.2, verbose=1)\n",
    "        \n",
    "        scores[\"{:.0f}%\".format(size * 100)] = { }\n",
    "                \n",
    "        result = model.evaluate(X_train, Y_train, verbose=0)\n",
    "        scores[\"{:.0f}%\".format(size * 100)][\"Train\"] = {\n",
    "            \"Loss\" : result[0],\n",
    "            \"Accuracy\" : result[1],\n",
    "            \"AUC\" : result[2]\n",
    "        }\n",
    "\n",
    "        result = model.evaluate(X_test, Y_test, verbose=0)\n",
    "        scores[\"{:.0f}%\".format(size * 100)][\"Test\"] = {\n",
    "            \"Loss\" : result[0],\n",
    "            \"Accuracy\" : result[1],\n",
    "            \"AUC\" : result[2]\n",
    "        }\n",
    "        \n",
    "        idx = \"{:.0f}%\".format(size * 100)\n",
    "        \n",
    "        print(\"Test Size={:.4f}\".format(size))\n",
    "        print(\"Train Loss={:.4f} Train Accuracy={:.4f} Train AUC={:.4f}\".format(scores[idx][\"Train\"][\"Loss\"], scores[idx][\"Train\"][\"Accuracy\"], scores[idx][\"Train\"][\"AUC\"]))\n",
    "        print(\"Test Loss={:.4f} Test Accuracy={:.4f} Test AUC={:.4f}\".format(scores[idx][\"Test\"][\"Loss\"], scores[idx][\"Test\"][\"Accuracy\"], scores[idx][\"Test\"][\"AUC\"]))\n",
    "        print(\"\\n\")\n",
    "        \n",
    "        del X_train, X_test, Y_train, Y_test\n",
    "        \n",
    "    return scores"
   ]
  },
  {
   "cell_type": "code",
   "execution_count": null,
   "id": "36bf039c",
   "metadata": {},
   "outputs": [],
   "source": [
    "dnn_result = train(X, Y, model_dnn, \"DNN\")"
   ]
  },
  {
   "cell_type": "code",
   "execution_count": null,
   "id": "4ec47a03",
   "metadata": {},
   "outputs": [],
   "source": [
    "cnn_result = train(X, Y, model_cnn, \"CNN\")"
   ]
  },
  {
   "cell_type": "code",
   "execution_count": null,
   "id": "bc7cd2bf",
   "metadata": {},
   "outputs": [],
   "source": [
    "bilstm_result = train(X, Y, model_bilstm, \"BiLSTM\")"
   ]
  },
  {
   "cell_type": "code",
   "execution_count": null,
   "id": "7b70671b",
   "metadata": {},
   "outputs": [],
   "source": [
    "def export_result(result, name):\n",
    "    table = pd.DataFrame(columns=[\"Test Size\", \"Train Loss\", \"Train Accuracy\", \"Train AUC\", \"Test Loss\", \"Test Accuracy\", \"Test AUC\"])\n",
    "    \n",
    "    for test_size in result:\n",
    "        table.loc[table.shape[0]] = [\n",
    "            test_size, \n",
    "            round(result[test_size][\"Train\"][\"Loss\"], 3), \n",
    "            round(result[test_size][\"Train\"][\"Accuracy\"], 3), \n",
    "            round(result[test_size][\"Train\"][\"AUC\"], 3), \n",
    "            round(result[test_size][\"Test\"][\"Loss\"], 3), \n",
    "            round(result[test_size][\"Test\"][\"Accuracy\"], 3),\n",
    "            round(result[test_size][\"Test\"][\"AUC\"], 3)\n",
    "        ]\n",
    "    \n",
    "    table.to_csv(f\"./logs/{name}.csv\")\n",
    "    \n",
    "    return table"
   ]
  },
  {
   "cell_type": "code",
   "execution_count": null,
   "id": "869af418",
   "metadata": {},
   "outputs": [],
   "source": [
    "dnn_result = export_result(dnn_result, \"DNN\")"
   ]
  },
  {
   "cell_type": "code",
   "execution_count": null,
   "id": "69b79f31",
   "metadata": {},
   "outputs": [],
   "source": [
    "cnn_result = export_result(cnn_result, \"CNN\")"
   ]
  },
  {
   "cell_type": "code",
   "execution_count": null,
   "id": "f9e9695b",
   "metadata": {},
   "outputs": [],
   "source": [
    "bilstm_result = export_result(bilstm_result, \"BiLSTM\")"
   ]
  },
  {
   "cell_type": "code",
   "execution_count": null,
   "id": "bdc2c5a9",
   "metadata": {},
   "outputs": [],
   "source": [
    "train_split_sizes = 1 - np.array(test_split_sizes)"
   ]
  },
  {
   "cell_type": "code",
   "execution_count": null,
   "id": "d3e8d923",
   "metadata": {},
   "outputs": [],
   "source": [
    "plt.figure(figsize=(8, 6), dpi=80)\n",
    "\n",
    "plt.plot(train_split_sizes * 100, dnn_result[\"Train Accuracy\"], label=\"DNN\")\n",
    "plt.plot(train_split_sizes * 100, cnn_result[\"Train Accuracy\"], label=\"CNN\")\n",
    "plt.plot(train_split_sizes * 100, bilstm_result[\"Train Accuracy\"], label=\"BiLSTM\")\n",
    "\n",
    "plt.xlabel(\"Training Set Size (%)\")\n",
    "plt.ylabel(\"Train Accuracy\")\n",
    "\n",
    "plt.legend()\n",
    "\n",
    "plt.show()"
   ]
  },
  {
   "cell_type": "code",
   "execution_count": null,
   "id": "9a73a210",
   "metadata": {},
   "outputs": [],
   "source": [
    "plt.figure(figsize=(8, 6), dpi=80)\n",
    "\n",
    "plt.plot(train_split_sizes * 100, dnn_result[\"Test Accuracy\"], label=\"DNN\")\n",
    "plt.plot(train_split_sizes * 100, cnn_result[\"Test Accuracy\"], label=\"CNN\")\n",
    "plt.plot(train_split_sizes * 100, bilstm_result[\"Test Accuracy\"], label=\"BiLSTM\")\n",
    "\n",
    "plt.xlabel(\"Training Set Size (%)\")\n",
    "plt.ylabel(\"Test Accuracy\")\n",
    "\n",
    "plt.legend()\n",
    "\n",
    "plt.show()"
   ]
  },
  {
   "cell_type": "code",
   "execution_count": null,
   "id": "4845313e",
   "metadata": {},
   "outputs": [],
   "source": [
    "plt.figure(figsize=(8, 6), dpi=80)\n",
    "\n",
    "plt.plot(train_split_sizes * 100, dnn_result[\"Train AUC\"], label=\"DNN\")\n",
    "plt.plot(train_split_sizes * 100, cnn_result[\"Train AUC\"], label=\"CNN\")\n",
    "plt.plot(train_split_sizes * 100, bilstm_result[\"Train AUC\"], label=\"BiLSTM\")\n",
    "\n",
    "plt.xlabel(\"Training Set Size (%)\")\n",
    "plt.ylabel(\"Train AUC\")\n",
    "\n",
    "plt.legend()\n",
    "\n",
    "plt.show()"
   ]
  },
  {
   "cell_type": "code",
   "execution_count": null,
   "id": "a9e57d46",
   "metadata": {},
   "outputs": [],
   "source": [
    "plt.figure(figsize=(8, 6), dpi=80)\n",
    "\n",
    "plt.plot(train_split_sizes * 100, dnn_result[\"Test AUC\"], label=\"DNN\")\n",
    "plt.plot(train_split_sizes * 100, cnn_result[\"Test AUC\"], label=\"CNN\")\n",
    "plt.plot(train_split_sizes * 100, bilstm_result[\"Test AUC\"], label=\"BiLSTM\")\n",
    "\n",
    "plt.xlabel(\"Training Set Size (%)\")\n",
    "plt.ylabel(\"Test AUC\")\n",
    "\n",
    "plt.legend()\n",
    "\n",
    "plt.show()"
   ]
  },
  {
   "cell_type": "code",
   "execution_count": null,
   "id": "72a2bcaa",
   "metadata": {},
   "outputs": [],
   "source": [
    "plt.figure(figsize=(8, 6), dpi=80)\n",
    "\n",
    "plt.plot(train_split_sizes * 100, dnn_result[\"Train Loss\"], label=\"DNN\")\n",
    "plt.plot(train_split_sizes * 100, cnn_result[\"Train Loss\"], label=\"CNN\")\n",
    "plt.plot(train_split_sizes * 100, bilstm_result[\"Train Loss\"], label=\"BiLSTM\")\n",
    "\n",
    "plt.xlabel(\"Training Set Size (%)\")\n",
    "plt.ylabel(\"Train Loss\")\n",
    "\n",
    "plt.legend()\n",
    "\n",
    "plt.show()"
   ]
  },
  {
   "cell_type": "code",
   "execution_count": null,
   "id": "9968e615",
   "metadata": {},
   "outputs": [],
   "source": [
    "plt.figure(figsize=(8, 6), dpi=80)\n",
    "\n",
    "plt.plot(train_split_sizes * 100, dnn_result[\"Test Loss\"], label=\"DNN\")\n",
    "plt.plot(train_split_sizes * 100, cnn_result[\"Test Loss\"], label=\"CNN\")\n",
    "plt.plot(train_split_sizes * 100, bilstm_result[\"Test Loss\"], label=\"BiLSTM\")\n",
    "\n",
    "plt.xlabel(\"Training Set Size (%)\")\n",
    "plt.ylabel(\"Test Loss\")\n",
    "\n",
    "plt.legend()\n",
    "\n",
    "plt.show()"
   ]
  },
  {
   "cell_type": "code",
   "execution_count": null,
   "id": "1ff5f89f",
   "metadata": {},
   "outputs": [],
   "source": []
  }
 ],
 "metadata": {
  "kernelspec": {
   "display_name": "Python 3 (ipykernel)",
   "language": "python",
   "name": "python3"
  },
  "language_info": {
   "codemirror_mode": {
    "name": "ipython",
    "version": 3
   },
   "file_extension": ".py",
   "mimetype": "text/x-python",
   "name": "python",
   "nbconvert_exporter": "python",
   "pygments_lexer": "ipython3",
   "version": "3.9.13"
  },
  "vscode": {
   "interpreter": {
    "hash": "30d15984fd22aa96de85f16433eec91bbe2faea5d46ed3d4d24713e4f4ec970c"
   }
  }
 },
 "nbformat": 4,
 "nbformat_minor": 5
}
