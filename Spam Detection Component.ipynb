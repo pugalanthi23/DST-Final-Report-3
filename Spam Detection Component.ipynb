{
 "cells": [
  {
   "cell_type": "code",
   "execution_count": null,
   "id": "e8d622cd",
   "metadata": {},
   "outputs": [],
   "source": [
    "import joblib\n",
    "\n",
    "import numpy as np\n",
    "import pandas as pd\n",
    "import matplotlib.pyplot as plt\n",
    "import seaborn as sns\n",
    "\n",
    "from xgboost import XGBClassifier\n",
    "from sklearn.model_selection import train_test_split, GridSearchCV\n",
    "from sklearn.naive_bayes import MultinomialNB\n",
    "from sklearn.linear_model import LogisticRegression\n",
    "from sklearn.svm import SVC\n",
    "from sklearn.tree import DecisionTreeClassifier\n",
    "from sklearn.ensemble import RandomForestClassifier, BaggingClassifier, GradientBoostingClassifier, AdaBoostClassifier\n",
    "from sklearn.metrics import accuracy_score,fbeta_score, precision_score, recall_score, roc_curve, auc"
   ]
  },
  {
   "cell_type": "code",
   "execution_count": null,
   "id": "1049ecba",
   "metadata": {},
   "outputs": [],
   "source": [
    "%matplotlib inline\n",
    "sns.set_theme()"
   ]
  },
  {
   "cell_type": "code",
   "execution_count": null,
   "id": "7632e4aa",
   "metadata": {},
   "outputs": [],
   "source": [
    "X = np.load(\"./dataset/FYP_train_X_TFIDF.npy\")\n",
    "Y = np.load(\"./dataset/FYP_train_Y.npy\")\n",
    "\n",
    "print(\"X Shape:\", X.shape)\n",
    "print(\"Y Shape:\", Y.shape)"
   ]
  },
  {
   "cell_type": "code",
   "execution_count": null,
   "id": "7a424098",
   "metadata": {},
   "outputs": [],
   "source": [
    "models = {\n",
    "    \"logistic_regression\": {\n",
    "        \"instance\": LogisticRegression(max_iter=500),\n",
    "        \"params\": {\n",
    "            \"C\": [0.001, 0.01, 0.1, 1, 10, 100],\n",
    "        }\n",
    "    },\n",
    "    \"multinominal_naive_bayes\": {\n",
    "        \"instance\": MultinomialNB(),\n",
    "        \"params\": { }\n",
    "    },\n",
    "    \"decision_tree\": {\n",
    "        \"instance\": DecisionTreeClassifier(),\n",
    "        \"params\": { \n",
    "            \"criterion\" : [\"gini\"]\n",
    "        }\n",
    "    },\n",
    "    \"random_forest\": {\n",
    "        \"instance\": RandomForestClassifier(),\n",
    "        \"params\": {\n",
    "            \"n_estimators\": [1, 10, 100, 1000]\n",
    "        }\n",
    "    },\n",
    "    \"svm_linear\": {\n",
    "        \"instance\": SVC(probability=True, gamma=\"auto\", kernel=\"linear\"),\n",
    "        \"params\": {\n",
    "            \"C\": [1, 10, 100],\n",
    "        }\n",
    "    },\n",
    "    \"svm_rbf\": {\n",
    "        \"instance\": SVC(probability=True, kernel=\"rbf\"),\n",
    "        \"params\": {\n",
    "            \"C\": [1, 10, 100],\n",
    "            \"gamma\": [0.1, 0.2, 0.3, 0.4, 0.5, 0.6, 0.7, 0.8]\n",
    "        }\n",
    "    },\n",
    "    \n",
    "}"
   ]
  },
  {
   "cell_type": "code",
   "execution_count": null,
   "id": "bdb83183",
   "metadata": {},
   "outputs": [],
   "source": [
    "scores = []\n",
    "best_estimators = {}\n",
    "\n",
    "X_train, X_test, Y_train, Y_test = train_test_split(X, Y, test_size = 0.1, random_state = 1)\n",
    "\n",
    "for model_name, config in models.items():\n",
    "    print(\"Training\", model_name)\n",
    "    classifier = GridSearchCV(\n",
    "        estimator=config[\"instance\"],\n",
    "        param_grid=config[\"params\"],\n",
    "        cv=5,\n",
    "        scoring=\"accuracy\"\n",
    "    )\n",
    "    \n",
    "    classifier.fit(X_train, Y_train)\n",
    "    \n",
    "    scores.append({\n",
    "        \"model\" : model_name,\n",
    "        \"train_score\" : classifier.best_score_,\n",
    "        \"test_score\" : classifier.best_estimator_.score(X_test, Y_test),\n",
    "        \"params\" : classifier.best_params_\n",
    "    })\n",
    "    \n",
    "    best_estimators[model_name] = classifier.best_estimator_"
   ]
  },
  {
   "cell_type": "code",
   "execution_count": null,
   "id": "7cd5afad",
   "metadata": {},
   "outputs": [],
   "source": [
    "result = pd.DataFrame(scores, columns=[\"model\", \"train_score\", \"test_score\", \"params\"])\n",
    "result.head()"
   ]
  },
  {
   "cell_type": "code",
   "execution_count": null,
   "id": "be3c3cbe",
   "metadata": {},
   "outputs": [],
   "source": [
    "test_split_sizes = [0.1, 0.2, 0.3, 0.4, 0.5]\n",
    "\n",
    "def train(X, Y, Classifier, name, params={}):\n",
    "    scores = {}\n",
    "    \n",
    "    print(\"Training\", name, \"\\n\")\n",
    "    \n",
    "    for size in test_split_sizes:    \n",
    "        X_train, X_test, Y_train, Y_test = train_test_split(X, Y, test_size = size, random_state = 1)\n",
    "        \n",
    "        model = Classifier(**params)\n",
    "        model.fit(X_train, Y_train)\n",
    "        \n",
    "        Y_pred = model.predict(X_test)\n",
    "\n",
    "        \n",
    "        scores[\"{:.0f}%\".format(size * 100)] = {\n",
    "            \"Accuracy\" : accuracy_score(Y_test, Y_pred),\n",
    "            \"F-0.5\": fbeta_score(Y_test,Y_pred, beta=0.5),\n",
    "            \"F-1\": fbeta_score(Y_test,Y_pred, beta=1),\n",
    "            \"Precision\" : precision_score(Y_test,Y_pred),\n",
    "            \"Recall\" : recall_score(Y_test,Y_pred),\n",
    "            \"ROC\": roc_curve(Y_test, Y_pred)\n",
    "        }\n",
    "        \n",
    "        idx = \"{:.0f}%\".format(size * 100)\n",
    "        \n",
    "        print(\"Test Size={:.2f} Accuracy={:.2f} Precision={:.2f} Recall={:.2f} F-1 Score={:.2f} F-0.5 Score={:.2f}\".format(size, scores[idx][\"Accuracy\"], scores[idx][\"Accuracy\"], scores[idx][\"Precision\"], scores[idx][\"Recall\"], scores[idx][\"F-1\"], scores[idx][\"F-0.5\"]))\n",
    "        \n",
    "        del X_train, X_test, Y_train, Y_test\n",
    "    \n",
    "    return scores"
   ]
  },
  {
   "cell_type": "code",
   "execution_count": null,
   "id": "583c654b",
   "metadata": {
    "scrolled": true
   },
   "outputs": [],
   "source": [
    "logistic_regression_result = train(\n",
    "    X=X, \n",
    "    Y=Y, \n",
    "    Classifier=LogisticRegression, \n",
    "    name=\"Logistics Regression\",\n",
    "    params={\"C\": 1}\n",
    ")"
   ]
  },
  {
   "cell_type": "code",
   "execution_count": null,
   "id": "577e2fd6",
   "metadata": {
    "scrolled": true
   },
   "outputs": [],
   "source": [
    "naive_bayes_result = train(\n",
    "    X=X, \n",
    "    Y=Y, \n",
    "    Classifier=MultinomialNB, \n",
    "    name=\"Multinomial Naive Bayes\",\n",
    "    params={}\n",
    ")"
   ]
  },
  {
   "cell_type": "code",
   "execution_count": null,
   "id": "1b2211b9",
   "metadata": {},
   "outputs": [],
   "source": [
    "decision_tree_result = train(\n",
    "    X=X, \n",
    "    Y=Y, \n",
    "    Classifier=DecisionTreeClassifier, \n",
    "    name=\"Decision Tree\",\n",
    "    params={\"criterion\" : \"gini\"}\n",
    ")"
   ]
  },
  {
   "cell_type": "code",
   "execution_count": null,
   "id": "992980cd",
   "metadata": {},
   "outputs": [],
   "source": [
    "svm_result = train(\n",
    "    X=X, \n",
    "    Y=Y, \n",
    "    Classifier=SVC, \n",
    "    name=\"Support Vector Machine\",\n",
    "    params={\"C\": 0.5, \"kernel\": \"linear\"}\n",
    ")"
   ]
  },
  {
   "cell_type": "code",
   "execution_count": null,
   "id": "8387a9c6",
   "metadata": {
    "scrolled": true
   },
   "outputs": [],
   "source": [
    "random_forest_result = train(\n",
    "    X=X, \n",
    "    Y=Y, \n",
    "    Classifier=RandomForestClassifier, \n",
    "    name=\"Random Forest\",\n",
    "    params={\"n_estimators\" : 1000}\n",
    ")"
   ]
  },
  {
   "cell_type": "markdown",
   "id": "5022e25e",
   "metadata": {},
   "source": [
    "#### Exporting Results"
   ]
  },
  {
   "cell_type": "code",
   "execution_count": null,
   "id": "0f575291",
   "metadata": {},
   "outputs": [],
   "source": [
    "def export_result(result, name):\n",
    "    table = pd.DataFrame(columns=[\"Test Size\", \"Accuracy\", \"Precision\", \"Recall\", \"F-1 Score\", \"F-0.5 Score\"])\n",
    "    \n",
    "    for test_size in result:\n",
    "        table.loc[table.shape[0]] = [\n",
    "            test_size, \n",
    "            round(result[test_size][\"Accuracy\"], 3), \n",
    "            round(result[test_size][\"Precision\"], 3), \n",
    "            round(result[test_size][\"Recall\"], 3), \n",
    "            round(result[test_size][\"F-1\"], 3), \n",
    "            round(result[test_size][\"F-0.5\"], 3)\n",
    "        ]\n",
    "    \n",
    "    table.to_csv(f\"./logs/{name}.csv\")\n",
    "    \n",
    "    return table"
   ]
  },
  {
   "cell_type": "code",
   "execution_count": null,
   "id": "3133c0df",
   "metadata": {},
   "outputs": [],
   "source": [
    "logistic_regression_result = export_result(logistic_regression_result, \"Logistic Regression\")\n",
    "naive_bayes_result = export_result(naive_bayes_result, \"Naive Bayes\")\n",
    "decision_tree_result = export_result(decision_tree_result, \"Decision Tree\")\n",
    "svm_result = export_result(svm_result, \"SVM\")\n",
    "random_forest_result = export_result(random_forest_result, \"Random Forest\")"
   ]
  },
  {
   "cell_type": "code",
   "execution_count": null,
   "id": "85c4e7cf",
   "metadata": {},
   "outputs": [],
   "source": [
    "logistic_regression_result"
   ]
  },
  {
   "cell_type": "code",
   "execution_count": null,
   "id": "9f4afa2f",
   "metadata": {},
   "outputs": [],
   "source": [
    "naive_bayes_result"
   ]
  },
  {
   "cell_type": "code",
   "execution_count": null,
   "id": "1fa05026",
   "metadata": {},
   "outputs": [],
   "source": [
    "decision_tree_result"
   ]
  },
  {
   "cell_type": "code",
   "execution_count": null,
   "id": "594b18b4",
   "metadata": {
    "scrolled": true
   },
   "outputs": [],
   "source": [
    "svm_result"
   ]
  },
  {
   "cell_type": "code",
   "execution_count": null,
   "id": "1976b363",
   "metadata": {},
   "outputs": [],
   "source": [
    "random_forest_result"
   ]
  },
  {
   "cell_type": "code",
   "execution_count": null,
   "id": "52adac6c",
   "metadata": {},
   "outputs": [],
   "source": [
    "def load_result(name):\n",
    "    result = pd.read_csv(f\"./logs/{name}.csv\")\n",
    "    return result"
   ]
  },
  {
   "cell_type": "code",
   "execution_count": null,
   "id": "50a1a132",
   "metadata": {},
   "outputs": [],
   "source": [
    "logistic_regression_result = load_result(\"Logistic Regression\")\n",
    "naive_bayes_result = load_result(\"Naive Bayes\")\n",
    "decision_tree_result = load_result(\"Decision Tree\")\n",
    "svm_result = load_result(\"SVM\")\n",
    "random_forest_result = load_result(\"Random Forest\")"
   ]
  },
  {
   "cell_type": "code",
   "execution_count": null,
   "id": "79067e2d",
   "metadata": {},
   "outputs": [],
   "source": [
    "logistic_regression_result"
   ]
  },
  {
   "cell_type": "markdown",
   "id": "5f0c6570",
   "metadata": {},
   "source": [
    "#### Plotting Results"
   ]
  },
  {
   "cell_type": "code",
   "execution_count": null,
   "id": "50606633",
   "metadata": {},
   "outputs": [],
   "source": [
    "train_split_sizes = 1 - np.array(test_split_sizes)"
   ]
  },
  {
   "cell_type": "code",
   "execution_count": null,
   "id": "c2e8709d",
   "metadata": {},
   "outputs": [],
   "source": [
    "plt.figure(figsize=(8, 6), dpi=80)\n",
    "\n",
    "plt.plot(train_split_sizes * 100, logistic_regression_result[\"Accuracy\"], label=\"Logistic Regression\")\n",
    "plt.plot(train_split_sizes * 100, naive_bayes_result[\"Accuracy\"], label=\"Naive Bayes\")\n",
    "plt.plot(train_split_sizes * 100, decision_tree_result[\"Accuracy\"], label=\"Decision Tree\")\n",
    "plt.plot(train_split_sizes * 100, svm_result[\"Accuracy\"], label=\"Support Vector Machine\")\n",
    "plt.plot(train_split_sizes * 100, random_forest_result[\"Accuracy\"], label=\"Random Forest\")\n",
    "\n",
    "plt.xlabel(\"Training Set Size (%)\")\n",
    "plt.ylabel(\"Accuracy\")\n",
    "\n",
    "plt.legend()\n",
    "\n",
    "plt.show()"
   ]
  },
  {
   "cell_type": "code",
   "execution_count": null,
   "id": "eac309a2",
   "metadata": {},
   "outputs": [],
   "source": [
    "plt.figure(figsize=(8, 6), dpi=80)\n",
    "\n",
    "plt.plot(train_split_sizes * 100, logistic_regression_result[\"Precision\"], label=\"Logistic Regression\")\n",
    "plt.plot(train_split_sizes * 100, naive_bayes_result[\"Precision\"], label=\"Naive Bayes\")\n",
    "plt.plot(train_split_sizes * 100, decision_tree_result[\"Precision\"], label=\"Decision Tree\")\n",
    "plt.plot(train_split_sizes * 100, svm_result[\"Precision\"], label=\"Support Vector Machine\")\n",
    "plt.plot(train_split_sizes * 100, random_forest_result[\"Precision\"], label=\"Random Forest\")\n",
    "\n",
    "plt.xlabel(\"Training Set Size (%)\")\n",
    "plt.ylabel(\"Precision\")\n",
    "\n",
    "plt.legend()\n",
    "\n",
    "plt.show()"
   ]
  },
  {
   "cell_type": "code",
   "execution_count": null,
   "id": "351dc35a",
   "metadata": {},
   "outputs": [],
   "source": [
    "plt.figure(figsize=(8, 6), dpi=80)\n",
    "\n",
    "plt.plot(train_split_sizes * 100, logistic_regression_result[\"Recall\"], label=\"Logistic Regression\")\n",
    "plt.plot(train_split_sizes * 100, naive_bayes_result[\"Recall\"], label=\"Naive Bayes\")\n",
    "plt.plot(train_split_sizes * 100, decision_tree_result[\"Recall\"], label=\"Decision Tree\")\n",
    "plt.plot(train_split_sizes * 100, svm_result[\"Recall\"], label=\"Support Vector Machine\")\n",
    "plt.plot(train_split_sizes * 100, random_forest_result[\"Recall\"], label=\"Random Forest\")\n",
    "\n",
    "plt.xlabel(\"Training Set Size (%)\")\n",
    "plt.ylabel(\"Recall\")\n",
    "\n",
    "plt.legend()\n",
    "\n",
    "plt.show()"
   ]
  },
  {
   "cell_type": "code",
   "execution_count": null,
   "id": "9583c39f",
   "metadata": {},
   "outputs": [],
   "source": [
    "plt.figure(figsize=(8, 6), dpi=80)\n",
    "\n",
    "plt.plot(train_split_sizes * 100, logistic_regression_result[\"F-1 Score\"], label=\"Logistic Regression\")\n",
    "plt.plot(train_split_sizes * 100, naive_bayes_result[\"F-1 Score\"], label=\"Naive Bayes\")\n",
    "plt.plot(train_split_sizes * 100, decision_tree_result[\"F-1 Score\"], label=\"Decision Tree\")\n",
    "plt.plot(train_split_sizes * 100, svm_result[\"F-1 Score\"], label=\"Support Vector Machine\")\n",
    "plt.plot(train_split_sizes * 100, random_forest_result[\"F-1 Score\"], label=\"Random Forest\")\n",
    "\n",
    "plt.xlabel(\"Training Set Size (%)\")\n",
    "plt.ylabel(\"F-1 Score\")\n",
    "\n",
    "plt.legend()\n",
    "\n",
    "plt.show()"
   ]
  },
  {
   "cell_type": "code",
   "execution_count": null,
   "id": "74b3b3ad",
   "metadata": {},
   "outputs": [],
   "source": [
    "plt.figure(figsize=(8, 6), dpi=80)\n",
    "\n",
    "plt.plot(train_split_sizes * 100, logistic_regression_result[\"F-0.5 Score\"], label=\"Logistic Regression\")\n",
    "plt.plot(train_split_sizes * 100, naive_bayes_result[\"F-0.5 Score\"], label=\"Naive Bayes\")\n",
    "plt.plot(train_split_sizes * 100, decision_tree_result[\"F-0.5 Score\"], label=\"Decision Tree\")\n",
    "plt.plot(train_split_sizes * 100, svm_result[\"F-0.5 Score\"], label=\"Support Vector Machine\")\n",
    "plt.plot(train_split_sizes * 100, random_forest_result[\"F-0.5 Score\"], label=\"Random Forest\")\n",
    "\n",
    "plt.xlabel(\"Training Set Size (%)\")\n",
    "plt.ylabel(\"F-0.5 Score\")\n",
    "\n",
    "plt.legend()\n",
    "\n",
    "plt.show()"
   ]
  },
  {
   "cell_type": "code",
   "execution_count": null,
   "id": "8eda760c",
   "metadata": {},
   "outputs": [],
   "source": [
    "X_train, X_test, Y_train, Y_test = train_test_split(X, Y, test_size = 0.1, random_state = 1)"
   ]
  },
  {
   "cell_type": "code",
   "execution_count": null,
   "id": "fb92ffeb",
   "metadata": {},
   "outputs": [],
   "source": [
    "logistic_regression_model = LogisticRegression()\n",
    "naive_bayes_model = MultinomialNB()\n",
    "decision_tree_model = DecisionTreeClassifier()\n",
    "svm_model = SVC()\n",
    "random_forest_model = RandomForestClassifier()"
   ]
  },
  {
   "cell_type": "code",
   "execution_count": null,
   "id": "b657df16",
   "metadata": {},
   "outputs": [],
   "source": [
    "def generate_roc(model, rnd=False):\n",
    "    model.fit(X_train, Y_train)\n",
    "    Y_pred = model.predict(X_test)\n",
    "    FPR, TPR, Threshold = roc_curve(Y_test, Y_pred)\n",
    "    AUC = auc(FPR, TPR)\n",
    "    return {\"FPR\": FPR, \"TPR\": TPR, \"AUC\": AUC} "
   ]
  },
  {
   "cell_type": "code",
   "execution_count": null,
   "id": "bff13e9d",
   "metadata": {},
   "outputs": [],
   "source": [
    "roc_logistic_regression = generate_roc(logistic_regression_model)\n",
    "roc_naive_bayes = generate_roc(naive_bayes_model)\n",
    "roc_svm = generate_roc(svm_model)\n",
    "roc_decision_tree = generate_roc(decision_tree_model)\n",
    "roc_random_forest = generate_roc(random_forest_model)"
   ]
  },
  {
   "cell_type": "code",
   "execution_count": null,
   "id": "c690075e",
   "metadata": {
    "scrolled": false
   },
   "outputs": [],
   "source": [
    "plt.figure(figsize=(8, 6), dpi=80)\n",
    "\n",
    "plt.plot(\n",
    "    roc_logistic_regression['FPR'], \n",
    "    roc_logistic_regression['TPR'], \n",
    "    label=f'Logistic Regression (AUC = {round(roc_logistic_regression[\"AUC\"], 3)})'\n",
    ")\n",
    "\n",
    "plt.plot(\n",
    "    roc_naive_bayes['FPR'], \n",
    "    roc_naive_bayes['TPR'], \n",
    "    label=f'Naive Bayes (AUC = {round(roc_naive_bayes[\"AUC\"], 3)})'\n",
    ")\n",
    "\n",
    "plt.plot(\n",
    "    roc_decision_tree['FPR'], \n",
    "    roc_decision_tree['TPR'], \n",
    "    label=f'Decision Tree (AUC = {round(roc_decision_tree[\"AUC\"], 3)})'\n",
    ")\n",
    "\n",
    "plt.plot(\n",
    "    roc_svm['FPR'], \n",
    "    roc_svm['TPR'], \n",
    "    label=f'Support Vector Machine (AUC = {round(roc_svm[\"AUC\"], 3)})'\n",
    ")\n",
    "\n",
    "plt.plot(\n",
    "    roc_random_forest['FPR'], \n",
    "    roc_random_forest['TPR'], \n",
    "    label=f'Random Forest (AUC = {round(roc_random_forest[\"AUC\"], 3)})'\n",
    ")\n",
    "\n",
    "plt.xlabel(\"False Positive Rate\")\n",
    "plt.ylabel(\"True Positive Rate\")\n",
    "\n",
    "plt.legend()\n",
    "\n",
    "plt.show()"
   ]
  },
  {
   "cell_type": "markdown",
   "id": "e722f11d",
   "metadata": {},
   "source": [
    "#### Optimising Result With Ensemble Models"
   ]
  },
  {
   "cell_type": "code",
   "execution_count": null,
   "id": "d2dce8da",
   "metadata": {},
   "outputs": [],
   "source": [
    "X_train, X_test, Y_train, Y_test = train_test_split(X, Y, test_size = 0.1, random_state = 1)"
   ]
  },
  {
   "cell_type": "code",
   "execution_count": null,
   "id": "8de44a43",
   "metadata": {},
   "outputs": [],
   "source": [
    "BAG_model = BaggingClassifier(base_estimator=MultinomialNB(), n_estimators=500)\n",
    "BAG_model.fit(X_train, Y_train)\n",
    "Y_pred = BAG_model.predict(X_test)\n",
    "accuracy_score(Y_test, Y_pred)"
   ]
  },
  {
   "cell_type": "code",
   "execution_count": null,
   "id": "56a73109",
   "metadata": {},
   "outputs": [],
   "source": [
    "GB_model = GradientBoostingClassifier(n_estimators=500, learning_rate=0.05, subsample=0.5)\n",
    "GB_model.fit(X_train, Y_train)\n",
    "Y_pred = GB_model.predict(X_test)\n",
    "accuracy_score(Y_test, Y_pred)"
   ]
  },
  {
   "cell_type": "code",
   "execution_count": null,
   "id": "bb46586e",
   "metadata": {},
   "outputs": [],
   "source": [
    "AB_model = AdaBoostClassifier(base_estimator=MultinomialNB(), n_estimators=500, learning_rate=0.05) # Add parameters\n",
    "AB_model.fit(X_train, Y_train)\n",
    "Y_pred = AB_model.predict(X_test)\n",
    "accuracy_score(Y_test, Y_pred)"
   ]
  },
  {
   "cell_type": "code",
   "execution_count": null,
   "id": "9fa94abf",
   "metadata": {},
   "outputs": [],
   "source": [
    "XGB_model = XGBClassifier(n_estimators=2000, eta=0.05, subsample=0.5, colsample_bytree=0.5)\n",
    "XGB_model.fit(X_train, Y_train)\n",
    "Y_pred = XGB_model.predict(X_test)\n",
    "accuracy_score(Y_test, Y_pred)"
   ]
  },
  {
   "cell_type": "markdown",
   "id": "b769b313",
   "metadata": {},
   "source": [
    "#### Saving The Best Model"
   ]
  },
  {
   "cell_type": "code",
   "execution_count": null,
   "id": "85737341",
   "metadata": {},
   "outputs": [],
   "source": [
    "joblib.dump(XGB_model, \"./models/SDC_XGB_MODEL\")"
   ]
  }
 ],
 "metadata": {
  "kernelspec": {
   "display_name": "Python 3.8.8 ('base')",
   "language": "python",
   "name": "python3"
  },
  "language_info": {
   "codemirror_mode": {
    "name": "ipython",
    "version": 3
   },
   "file_extension": ".py",
   "mimetype": "text/x-python",
   "name": "python",
   "nbconvert_exporter": "python",
   "pygments_lexer": "ipython3",
   "version": "3.9.13"
  },
  "vscode": {
   "interpreter": {
    "hash": "30d15984fd22aa96de85f16433eec91bbe2faea5d46ed3d4d24713e4f4ec970c"
   }
  }
 },
 "nbformat": 4,
 "nbformat_minor": 5
}
